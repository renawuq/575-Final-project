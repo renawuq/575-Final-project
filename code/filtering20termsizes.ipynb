{
 "cells": [
  {
   "cell_type": "markdown",
   "id": "2519693f-4412-4621-b8d5-50257e250436",
   "metadata": {},
   "source": [
    "Change directory and import packages"
   ]
  },
  {
   "cell_type": "code",
   "execution_count": 1,
   "id": "956da815-68a0-41b3-8e17-ababa1f7456e",
   "metadata": {},
   "outputs": [],
   "source": [
    "import os\n",
    "os.getcwd()\n",
    "os.chdir(\"/home/cbb575_mcm274/Final\")\n",
    "\n",
    "import pandas as pd\n",
    "import numpy as np"
   ]
  },
  {
   "cell_type": "markdown",
   "id": "fcff8f06-247b-4b0b-9210-9331d96ca601",
   "metadata": {},
   "source": [
    "-> To filter cluster 0, upload cluster 0 the run filtering cell. Do not upload cluster 1\n",
    "-> Alternatively, to filter cluster 1, upload cluster 1 the run filtering cell. Do not upload cluster 0\n"
   ]
  },
  {
   "cell_type": "markdown",
   "id": "1ad96de2-b39b-4cbf-b81c-660cccbabeab",
   "metadata": {},
   "source": [
    "Upload cluster 0 csv and gem files from gProfiler "
   ]
  },
  {
   "cell_type": "code",
   "execution_count": 6,
   "id": "89001dad-9430-4183-862f-57a0ab9ebe49",
   "metadata": {},
   "outputs": [],
   "source": [
    "csv = pd.read_csv(\"gProfiler_cluster0.csv\")\n",
    "gem = pd.read_csv(\"gProfiler_cluster0.gem.txt\", sep = \"\\t\")"
   ]
  },
  {
   "cell_type": "markdown",
   "id": "00112304-ca93-495a-8243-d9a20bc99f22",
   "metadata": {},
   "source": [
    "Upload cluster 1 csv and gem files from gProfiler "
   ]
  },
  {
   "cell_type": "code",
   "execution_count": 3,
   "id": "59506aa8-184f-4746-8fcf-2c1b21b907e1",
   "metadata": {},
   "outputs": [],
   "source": [
    "csv = pd.read_csv(\"gProfiler_cluster1.csv\")\n",
    "gem = pd.read_csv(\"gProfiler_cluster1.gem.txt\", sep = \"\\t\")"
   ]
  },
  {
   "cell_type": "markdown",
   "id": "7f8ad71b-856c-4cfd-9829-a8f2086b16a9",
   "metadata": {},
   "source": [
    "Filter for term sizes less than 20"
   ]
  },
  {
   "cell_type": "code",
   "execution_count": 4,
   "id": "d85a92fc-2540-4f0a-9ea2-0831abaa3477",
   "metadata": {},
   "outputs": [],
   "source": [
    "filter = csv[\"term_size\"] < 20\n",
    "csv_filt = csv[filter]\n",
    "overlap = pd.merge(left = csv_filt, right = gem, left_on = 'term_id', right_on = 'GO.ID', how = 'inner')\n",
    "gem_filt = overlap.loc[:,\"GO.ID\":]"
   ]
  },
  {
   "cell_type": "markdown",
   "id": "dcf1ca32-13de-4b73-a58c-18b10eef3e77",
   "metadata": {},
   "source": [
    "Export cluster 0 filter gem file "
   ]
  },
  {
   "cell_type": "code",
   "execution_count": 7,
   "id": "88e8c030-46da-4e66-b4f0-bcf65966d6f2",
   "metadata": {},
   "outputs": [],
   "source": [
    "gem_filt.to_csv('cluster0filt20.gem.txt', sep='\\t', index=False, header=True)"
   ]
  },
  {
   "cell_type": "markdown",
   "id": "1d9da212-09b6-4e28-a24b-ff321a1fdfab",
   "metadata": {},
   "source": [
    "Export cluster 1 filter gem file "
   ]
  },
  {
   "cell_type": "code",
   "execution_count": 5,
   "id": "656e8d0e-c310-4314-bf8f-c9f0f5305b67",
   "metadata": {},
   "outputs": [],
   "source": [
    "gem_filt.to_csv('cluster1filt20.gem.txt', sep='\\t', index=False, header=True)"
   ]
  }
 ],
 "metadata": {
  "kernelspec": {
   "display_name": "Python 3 (ipykernel)",
   "language": "python",
   "name": "python3"
  },
  "language_info": {
   "codemirror_mode": {
    "name": "ipython",
    "version": 3
   },
   "file_extension": ".py",
   "mimetype": "text/x-python",
   "name": "python",
   "nbconvert_exporter": "python",
   "pygments_lexer": "ipython3",
   "version": "3.12.5"
  }
 },
 "nbformat": 4,
 "nbformat_minor": 5
}
